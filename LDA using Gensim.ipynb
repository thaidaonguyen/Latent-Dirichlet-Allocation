{
 "cells": [
  {
   "cell_type": "code",
   "execution_count": 1,
   "metadata": {},
   "outputs": [
    {
     "name": "stderr",
     "output_type": "stream",
     "text": [
      "C:\\Users\\thaidao\\Anaconda3\\envs\\tensorflow\\lib\\site-packages\\gensim\\utils.py:865: UserWarning: detected Windows; aliasing chunkize to chunkize_serial\n",
      "  warnings.warn(\"detected Windows; aliasing chunkize to chunkize_serial\")\n",
      "Using TensorFlow backend.\n"
     ]
    }
   ],
   "source": [
    "import os\n",
    "import pandas as pd\n",
    "import nltk\n",
    "import pickle as pkl\n",
    "import re, string\n",
    "#import unicodedata\n",
    "import gensim\n",
    "from gensim import corpora, models, similarities \n",
    "from collections import Counter\n",
    "from sklearn import datasets\n"
   ]
  },
  {
   "cell_type": "markdown",
   "metadata": {},
   "source": [
    "# Loading the data\n",
    "\n",
    "I am using the BBC raw text dataset available at http://mlg.ucd.ie/datasets/bbc.html. You can download and unzip to 'bbc' folder."
   ]
  },
  {
   "cell_type": "code",
   "execution_count": 2,
   "metadata": {},
   "outputs": [
    {
     "name": "stdout",
     "output_type": "stream",
     "text": [
      "['business', 'entertainment', 'politics', 'sport', 'tech']\n"
     ]
    }
   ],
   "source": [
    "DATA_DIR = os.getcwd()+'\\\\bbc'  #Windows's dir delimiter\n",
    "#subdir are CATEGORIES = ['business', 'entertainment', 'politics', 'sport', 'tech']\n",
    "CATEGORIES = os.listdir(path='./bbc')\n",
    "\n",
    "#print(DATA_DIR)\n",
    "print(CATEGORIES)"
   ]
  },
  {
   "cell_type": "code",
   "execution_count": null,
   "metadata": {
    "collapsed": true
   },
   "outputs": [],
   "source": [
    "#DATA_DIR\n"
   ]
  },
  {
   "cell_type": "code",
   "execution_count": 3,
   "metadata": {
    "collapsed": true
   },
   "outputs": [],
   "source": [
    "#This will load all articles into a list of articles.\n",
    "raw_text = datasets.load_files(DATA_DIR,\n",
    "    categories=CATEGORIES, encoding=\"Latin-1\")"
   ]
  },
  {
   "cell_type": "code",
   "execution_count": 4,
   "metadata": {},
   "outputs": [
    {
     "data": {
      "text/plain": [
       "'Tate & Lyle boss bags top award\\n\\nTate & Lyle\\'s chief executive has been named European Businessman of the Year by a leading business magazine.\\n\\nIain Ferguson was awarded the title by US publication Forbes for returning one of the UK\\'s \"venerable\" manufacturers to the country\\'s top 100 companies. The sugar group had been absent from the FTSE 100 for seven years until Mr Ferguson helped it return to growth. Tate\\'s shares have leapt 55% this year, boosted by firming sugar prices and sales of its artificial sweeteners.\\n\\n\"After years of a sagging stock price and a seven-year hiatus from the FTSE 100, one of Britain\\'s venerable manufacturers has returned to the vaunted index,\" Forbes said. Mr Ferguson took the helm at the company in 2003, after spending most of his career at consumer goods giant Unilever. Tate & Lyle, which was an original member of the historic FT-30 index in 1935, operates more than 41 factories and 20 more additional production facilities in 28 countries. Previous winners of the Forbes award include Royal Bank of Scotland chief executive Fred Goodwin and former Vodafone boss Chris Gent.\\n'"
      ]
     },
     "execution_count": 4,
     "metadata": {},
     "output_type": "execute_result"
    }
   ],
   "source": [
    "#Let see the content of few articles\n",
    "raw_text.data[0]\n"
   ]
  },
  {
   "cell_type": "code",
   "execution_count": 5,
   "metadata": {},
   "outputs": [
    {
     "data": {
      "text/plain": [
       "'business'"
      ]
     },
     "execution_count": 5,
     "metadata": {},
     "output_type": "execute_result"
    }
   ],
   "source": [
    "raw_text.target_names[0]"
   ]
  },
  {
   "cell_type": "code",
   "execution_count": 6,
   "metadata": {},
   "outputs": [
    {
     "data": {
      "text/plain": [
       "\"Halo 2 sells five million copies\\n\\nMicrosoft is celebrating bumper sales of its Xbox sci-fi shooter, Halo 2.\\n\\nThe game has sold more than five million copies worldwide since it went on sale in mid-November, the company said. Halo 2 has proved popular online, with gamers notching up a record 28 million hours playing the game on Xbox Live. According to Microsoft, nine out of 10 Xbox Live members have played the game for an average of 91 minutes per session.\\n\\nThe sequel to the best-selling Need for Speed: Underground has inched ahead of the competition to take the top slot in the official UK games charts. The racing game moved up one spot to first place, nudging GTA: San Andreas down to second place. Halo 2 dropped one place to five, while Half-Life 2 fell to number nine. Last week's new releases, GoldenEye: Rogue Agent and Killzone, both failed to make it into the top 10, debuting at number 11 and 12 respectively.\\n\\nRecord numbers of Warcraft fans are settling in the games online world. On the opening day of the World of Warcraft massive multi-player online game more than 200,000 players signed up to play. On the evening of the first day more than 100,000 players were in the world, forcing Blizzard to add another 34 servers to cope with the influx. The online game turns the stand alone Warcraft games into a persistent world that players can inhabit not just visit\\n\\nEurope's gamers could be waiting until January to hear when they can get their mitts on Nintendo's handheld device, Nintendo DS, says gamesindustry.biz. David Yarnton, Nintendo UK general manager, told a press conference to look out for details in the New Year. Its US launch was on Sunday and it goes on sale in Japan on 2 December. Nintendo has a 95% share of the handheld gaming market and said it expected to sell around five million of the DS by March 2005.\\n\""
      ]
     },
     "execution_count": 6,
     "metadata": {},
     "output_type": "execute_result"
    }
   ],
   "source": [
    "raw_text.data[1]"
   ]
  },
  {
   "cell_type": "code",
   "execution_count": 7,
   "metadata": {},
   "outputs": [
    {
     "data": {
      "text/plain": [
       "'entertainment'"
      ]
     },
     "execution_count": 7,
     "metadata": {},
     "output_type": "execute_result"
    }
   ],
   "source": [
    "raw_text.target_names[1]\n"
   ]
  },
  {
   "cell_type": "code",
   "execution_count": 8,
   "metadata": {},
   "outputs": [
    {
     "data": {
      "text/plain": [
       "2225"
      ]
     },
     "execution_count": 8,
     "metadata": {},
     "output_type": "execute_result"
    }
   ],
   "source": [
    "#there are 2225 text/news extracted, matches the dataset total files\n",
    "len(raw_text.data)"
   ]
  },
  {
   "cell_type": "code",
   "execution_count": 9,
   "metadata": {
    "collapsed": true
   },
   "outputs": [],
   "source": [
    "#Save all text files to .plk for faster reload next time\n",
    "pkl.dump(raw_text.data, open('raw_text.pkl','wb'))\n"
   ]
  },
  {
   "cell_type": "code",
   "execution_count": 10,
   "metadata": {
    "collapsed": true
   },
   "outputs": [],
   "source": [
    "raw_text_df = pd.DataFrame(raw_text.data,columns=['raw_text'])"
   ]
  },
  {
   "cell_type": "code",
   "execution_count": 11,
   "metadata": {},
   "outputs": [
    {
     "data": {
      "text/plain": [
       "\"Halo 2 sells five million copies\\n\\nMicrosoft is celebrating bumper sales of its Xbox sci-fi shooter, Halo 2.\\n\\nThe game has sold more than five million copies worldwide since it went on sale in mid-November, the company said. Halo 2 has proved popular online, with gamers notching up a record 28 million hours playing the game on Xbox Live. According to Microsoft, nine out of 10 Xbox Live members have played the game for an average of 91 minutes per session.\\n\\nThe sequel to the best-selling Need for Speed: Underground has inched ahead of the competition to take the top slot in the official UK games charts. The racing game moved up one spot to first place, nudging GTA: San Andreas down to second place. Halo 2 dropped one place to five, while Half-Life 2 fell to number nine. Last week's new releases, GoldenEye: Rogue Agent and Killzone, both failed to make it into the top 10, debuting at number 11 and 12 respectively.\\n\\nRecord numbers of Warcraft fans are settling in the games online world. On the opening day of the World of Warcraft massive multi-player online game more than 200,000 players signed up to play. On the evening of the first day more than 100,000 players were in the world, forcing Blizzard to add another 34 servers to cope with the influx. The online game turns the stand alone Warcraft games into a persistent world that players can inhabit not just visit\\n\\nEurope's gamers could be waiting until January to hear when they can get their mitts on Nintendo's handheld device, Nintendo DS, says gamesindustry.biz. David Yarnton, Nintendo UK general manager, told a press conference to look out for details in the New Year. Its US launch was on Sunday and it goes on sale in Japan on 2 December. Nintendo has a 95% share of the handheld gaming market and said it expected to sell around five million of the DS by March 2005.\\n\""
      ]
     },
     "execution_count": 11,
     "metadata": {},
     "output_type": "execute_result"
    }
   ],
   "source": [
    "raw_text.data[1]"
   ]
  },
  {
   "cell_type": "markdown",
   "metadata": {
    "collapsed": true
   },
   "source": [
    "# Preprocessing steps:\n",
    "*  Basic text cleaning:  Lowering letter cases, and using alphabet without special characters.\n",
    "*  Filtering out Stop Words\n",
    "*  Stemming \n",
    "*  Or more later....\n"
   ]
  },
  {
   "cell_type": "code",
   "execution_count": 12,
   "metadata": {
    "collapsed": true
   },
   "outputs": [],
   "source": [
    "clean_list= re.sub(\"[^a-zA-Z]\", \" \", raw_text.data[1].lower().strip())\n"
   ]
  },
  {
   "cell_type": "code",
   "execution_count": 13,
   "metadata": {},
   "outputs": [
    {
     "data": {
      "text/plain": [
       "['halo',\n",
       " '',\n",
       " '',\n",
       " 'sells',\n",
       " 'five',\n",
       " 'million',\n",
       " 'copies',\n",
       " '',\n",
       " 'microsoft',\n",
       " 'is',\n",
       " 'celebrating',\n",
       " 'bumper',\n",
       " 'sales',\n",
       " 'of',\n",
       " 'its',\n",
       " 'xbox',\n",
       " 'sci',\n",
       " 'fi',\n",
       " 'shooter',\n",
       " '',\n",
       " 'halo',\n",
       " '',\n",
       " '',\n",
       " '',\n",
       " '',\n",
       " 'the',\n",
       " 'game',\n",
       " 'has',\n",
       " 'sold',\n",
       " 'more',\n",
       " 'than',\n",
       " 'five',\n",
       " 'million',\n",
       " 'copies',\n",
       " 'worldwide',\n",
       " 'since',\n",
       " 'it',\n",
       " 'went',\n",
       " 'on',\n",
       " 'sale',\n",
       " 'in',\n",
       " 'mid',\n",
       " 'november',\n",
       " '',\n",
       " 'the',\n",
       " 'company',\n",
       " 'said',\n",
       " '',\n",
       " 'halo',\n",
       " '',\n",
       " '',\n",
       " 'has',\n",
       " 'proved',\n",
       " 'popular',\n",
       " 'online',\n",
       " '',\n",
       " 'with',\n",
       " 'gamers',\n",
       " 'notching',\n",
       " 'up',\n",
       " 'a',\n",
       " 'record',\n",
       " '',\n",
       " '',\n",
       " '',\n",
       " 'million',\n",
       " 'hours',\n",
       " 'playing',\n",
       " 'the',\n",
       " 'game',\n",
       " 'on',\n",
       " 'xbox',\n",
       " 'live',\n",
       " '',\n",
       " 'according',\n",
       " 'to',\n",
       " 'microsoft',\n",
       " '',\n",
       " 'nine',\n",
       " 'out',\n",
       " 'of',\n",
       " '',\n",
       " '',\n",
       " '',\n",
       " 'xbox',\n",
       " 'live',\n",
       " 'members',\n",
       " 'have',\n",
       " 'played',\n",
       " 'the',\n",
       " 'game',\n",
       " 'for',\n",
       " 'an',\n",
       " 'average',\n",
       " 'of',\n",
       " '',\n",
       " '',\n",
       " '',\n",
       " 'minutes',\n",
       " 'per',\n",
       " 'session',\n",
       " '',\n",
       " '',\n",
       " 'the',\n",
       " 'sequel',\n",
       " 'to',\n",
       " 'the',\n",
       " 'best',\n",
       " 'selling',\n",
       " 'need',\n",
       " 'for',\n",
       " 'speed',\n",
       " '',\n",
       " 'underground',\n",
       " 'has',\n",
       " 'inched',\n",
       " 'ahead',\n",
       " 'of',\n",
       " 'the',\n",
       " 'competition',\n",
       " 'to',\n",
       " 'take',\n",
       " 'the',\n",
       " 'top',\n",
       " 'slot',\n",
       " 'in',\n",
       " 'the',\n",
       " 'official',\n",
       " 'uk',\n",
       " 'games',\n",
       " 'charts',\n",
       " '',\n",
       " 'the',\n",
       " 'racing',\n",
       " 'game',\n",
       " 'moved',\n",
       " 'up',\n",
       " 'one',\n",
       " 'spot',\n",
       " 'to',\n",
       " 'first',\n",
       " 'place',\n",
       " '',\n",
       " 'nudging',\n",
       " 'gta',\n",
       " '',\n",
       " 'san',\n",
       " 'andreas',\n",
       " 'down',\n",
       " 'to',\n",
       " 'second',\n",
       " 'place',\n",
       " '',\n",
       " 'halo',\n",
       " '',\n",
       " '',\n",
       " 'dropped',\n",
       " 'one',\n",
       " 'place',\n",
       " 'to',\n",
       " 'five',\n",
       " '',\n",
       " 'while',\n",
       " 'half',\n",
       " 'life',\n",
       " '',\n",
       " '',\n",
       " 'fell',\n",
       " 'to',\n",
       " 'number',\n",
       " 'nine',\n",
       " '',\n",
       " 'last',\n",
       " 'week',\n",
       " 's',\n",
       " 'new',\n",
       " 'releases',\n",
       " '',\n",
       " 'goldeneye',\n",
       " '',\n",
       " 'rogue',\n",
       " 'agent',\n",
       " 'and',\n",
       " 'killzone',\n",
       " '',\n",
       " 'both',\n",
       " 'failed',\n",
       " 'to',\n",
       " 'make',\n",
       " 'it',\n",
       " 'into',\n",
       " 'the',\n",
       " 'top',\n",
       " '',\n",
       " '',\n",
       " '',\n",
       " '',\n",
       " 'debuting',\n",
       " 'at',\n",
       " 'number',\n",
       " '',\n",
       " '',\n",
       " '',\n",
       " 'and',\n",
       " '',\n",
       " '',\n",
       " '',\n",
       " 'respectively',\n",
       " '',\n",
       " '',\n",
       " 'record',\n",
       " 'numbers',\n",
       " 'of',\n",
       " 'warcraft',\n",
       " 'fans',\n",
       " 'are',\n",
       " 'settling',\n",
       " 'in',\n",
       " 'the',\n",
       " 'games',\n",
       " 'online',\n",
       " 'world',\n",
       " '',\n",
       " 'on',\n",
       " 'the',\n",
       " 'opening',\n",
       " 'day',\n",
       " 'of',\n",
       " 'the',\n",
       " 'world',\n",
       " 'of',\n",
       " 'warcraft',\n",
       " 'massive',\n",
       " 'multi',\n",
       " 'player',\n",
       " 'online',\n",
       " 'game',\n",
       " 'more',\n",
       " 'than',\n",
       " '',\n",
       " '',\n",
       " '',\n",
       " '',\n",
       " '',\n",
       " '',\n",
       " '',\n",
       " '',\n",
       " 'players',\n",
       " 'signed',\n",
       " 'up',\n",
       " 'to',\n",
       " 'play',\n",
       " '',\n",
       " 'on',\n",
       " 'the',\n",
       " 'evening',\n",
       " 'of',\n",
       " 'the',\n",
       " 'first',\n",
       " 'day',\n",
       " 'more',\n",
       " 'than',\n",
       " '',\n",
       " '',\n",
       " '',\n",
       " '',\n",
       " '',\n",
       " '',\n",
       " '',\n",
       " '',\n",
       " 'players',\n",
       " 'were',\n",
       " 'in',\n",
       " 'the',\n",
       " 'world',\n",
       " '',\n",
       " 'forcing',\n",
       " 'blizzard',\n",
       " 'to',\n",
       " 'add',\n",
       " 'another',\n",
       " '',\n",
       " '',\n",
       " '',\n",
       " 'servers',\n",
       " 'to',\n",
       " 'cope',\n",
       " 'with',\n",
       " 'the',\n",
       " 'influx',\n",
       " '',\n",
       " 'the',\n",
       " 'online',\n",
       " 'game',\n",
       " 'turns',\n",
       " 'the',\n",
       " 'stand',\n",
       " 'alone',\n",
       " 'warcraft',\n",
       " 'games',\n",
       " 'into',\n",
       " 'a',\n",
       " 'persistent',\n",
       " 'world',\n",
       " 'that',\n",
       " 'players',\n",
       " 'can',\n",
       " 'inhabit',\n",
       " 'not',\n",
       " 'just',\n",
       " 'visit',\n",
       " '',\n",
       " 'europe',\n",
       " 's',\n",
       " 'gamers',\n",
       " 'could',\n",
       " 'be',\n",
       " 'waiting',\n",
       " 'until',\n",
       " 'january',\n",
       " 'to',\n",
       " 'hear',\n",
       " 'when',\n",
       " 'they',\n",
       " 'can',\n",
       " 'get',\n",
       " 'their',\n",
       " 'mitts',\n",
       " 'on',\n",
       " 'nintendo',\n",
       " 's',\n",
       " 'handheld',\n",
       " 'device',\n",
       " '',\n",
       " 'nintendo',\n",
       " 'ds',\n",
       " '',\n",
       " 'says',\n",
       " 'gamesindustry',\n",
       " 'biz',\n",
       " '',\n",
       " 'david',\n",
       " 'yarnton',\n",
       " '',\n",
       " 'nintendo',\n",
       " 'uk',\n",
       " 'general',\n",
       " 'manager',\n",
       " '',\n",
       " 'told',\n",
       " 'a',\n",
       " 'press',\n",
       " 'conference',\n",
       " 'to',\n",
       " 'look',\n",
       " 'out',\n",
       " 'for',\n",
       " 'details',\n",
       " 'in',\n",
       " 'the',\n",
       " 'new',\n",
       " 'year',\n",
       " '',\n",
       " 'its',\n",
       " 'us',\n",
       " 'launch',\n",
       " 'was',\n",
       " 'on',\n",
       " 'sunday',\n",
       " 'and',\n",
       " 'it',\n",
       " 'goes',\n",
       " 'on',\n",
       " 'sale',\n",
       " 'in',\n",
       " 'japan',\n",
       " 'on',\n",
       " '',\n",
       " '',\n",
       " 'december',\n",
       " '',\n",
       " 'nintendo',\n",
       " 'has',\n",
       " 'a',\n",
       " '',\n",
       " '',\n",
       " '',\n",
       " '',\n",
       " 'share',\n",
       " 'of',\n",
       " 'the',\n",
       " 'handheld',\n",
       " 'gaming',\n",
       " 'market',\n",
       " 'and',\n",
       " 'said',\n",
       " 'it',\n",
       " 'expected',\n",
       " 'to',\n",
       " 'sell',\n",
       " 'around',\n",
       " 'five',\n",
       " 'million',\n",
       " 'of',\n",
       " 'the',\n",
       " 'ds',\n",
       " 'by',\n",
       " 'march',\n",
       " '',\n",
       " '',\n",
       " '',\n",
       " '',\n",
       " '',\n",
       " '']"
      ]
     },
     "execution_count": 13,
     "metadata": {},
     "output_type": "execute_result"
    }
   ],
   "source": [
    "clean_list.split(\" \")"
   ]
  },
  {
   "cell_type": "code",
   "execution_count": 14,
   "metadata": {},
   "outputs": [
    {
     "name": "stdout",
     "output_type": "stream",
     "text": [
      "['a', 'about', 'above', 'after', 'again', 'against', 'ain', 'all', 'am', 'an', 'and', 'any', 'are', 'aren', 'as', 'at', 'be', 'because', 'been', 'before', 'being', 'below', 'between', 'both', 'but', 'by', 'can', 'couldn', 'd', 'did', 'didn', 'do', 'does', 'doesn', 'doing', 'don', 'down', 'during', 'each', 'few', 'for', 'from', 'further', 'had', 'hadn', 'has', 'hasn', 'have', 'haven', 'having', 'he', 'her', 'here', 'hers', 'herself', 'him', 'himself', 'his', 'how', 'i', 'if', 'in', 'into', 'is', 'isn', 'it', 'its', 'itself', 'just', 'll', 'm', 'ma', 'me', 'mightn', 'more', 'most', 'mustn', 'my', 'myself', 'needn', 'no', 'nor', 'not', 'now', 'o', 'of', 'off', 'on', 'once', 'only', 'or', 'other', 'our', 'ours', 'ourselves', 'out', 'over', 'own', 're', 's', 'same', 'shan', 'she', 'should', 'shouldn', 'so', 'some', 'such', 't', 'than', 'that', 'the', 'their', 'theirs', 'them', 'themselves', 'then', 'there', 'these', 'they', 'this', 'those', 'through', 'to', 'too', 'under', 'until', 'up', 've', 'very', 'was', 'wasn', 'we', 'were', 'weren', 'what', 'when', 'where', 'which', 'while', 'who', 'whom', 'why', 'will', 'with', 'won', 'wouldn', 'y', 'you', 'your', 'yours', 'yourself', 'yourselves']\n"
     ]
    }
   ],
   "source": [
    "stopwords = nltk.corpus.stopwords.words('english')\n",
    "print(sorted(stopwords))\n"
   ]
  },
  {
   "cell_type": "code",
   "execution_count": 15,
   "metadata": {},
   "outputs": [
    {
     "name": "stdout",
     "output_type": "stream",
     "text": [
      "[]\n"
     ]
    }
   ],
   "source": [
    "wcount = Counter()\n",
    "filtered_words= [word for word in clean_list[2].split() if word not in stopwords and len(word) > 2]  \n",
    "wcount.update(filtered_words)\n",
    "print(wcount.most_common(25))\n"
   ]
  },
  {
   "cell_type": "code",
   "execution_count": 17,
   "metadata": {
    "collapsed": true
   },
   "outputs": [],
   "source": [
    "stopwords = nltk.corpus.stopwords.words('english') \n",
    "stemmer = nltk.stem.snowball.SnowballStemmer('english')\n",
    "\n",
    "def news_to_tokenized_words (text):\n",
    "    #  Basic text cleaning:  Lowering letter cases, and using alphabet without special characters.\n",
    "    clean_text = re.sub(\"[^a-zA-Z]\", \" \", text.lower().strip())\n",
    "    \n",
    "    #  Filtering out Stop Words and words that are less than 3 chars\n",
    "    filtered_words= [word for word in clean_text.split(\" \") if word not in stopwords and len(word) > 2]\n",
    "\n",
    "    #  Stemming \n",
    "    tokenized_words = [stemmer.stem(word) for word in filtered_words ]\n",
    "    \n",
    "    return tokenized_words"
   ]
  },
  {
   "cell_type": "code",
   "execution_count": 18,
   "metadata": {
    "collapsed": true
   },
   "outputs": [],
   "source": [
    "raw_text_df.insert(raw_text_df.shape[1], 'clean_text', raw_text_df.raw_text.apply(news_to_tokenized_words))"
   ]
  },
  {
   "cell_type": "code",
   "execution_count": 19,
   "metadata": {},
   "outputs": [
    {
     "data": {
      "text/plain": [
       "['halo',\n",
       " 'sell',\n",
       " 'five',\n",
       " 'million',\n",
       " 'copi',\n",
       " 'microsoft',\n",
       " 'celebr',\n",
       " 'bumper',\n",
       " 'sale',\n",
       " 'xbox',\n",
       " 'sci',\n",
       " 'shooter',\n",
       " 'halo',\n",
       " 'game',\n",
       " 'sold',\n",
       " 'five',\n",
       " 'million',\n",
       " 'copi',\n",
       " 'worldwid',\n",
       " 'sinc',\n",
       " 'went',\n",
       " 'sale',\n",
       " 'mid',\n",
       " 'novemb',\n",
       " 'compani',\n",
       " 'said',\n",
       " 'halo',\n",
       " 'prove',\n",
       " 'popular',\n",
       " 'onlin',\n",
       " 'gamer',\n",
       " 'notch',\n",
       " 'record',\n",
       " 'million',\n",
       " 'hour',\n",
       " 'play',\n",
       " 'game',\n",
       " 'xbox',\n",
       " 'live',\n",
       " 'accord',\n",
       " 'microsoft',\n",
       " 'nine',\n",
       " 'xbox',\n",
       " 'live',\n",
       " 'member',\n",
       " 'play',\n",
       " 'game',\n",
       " 'averag',\n",
       " 'minut',\n",
       " 'per',\n",
       " 'session',\n",
       " 'sequel',\n",
       " 'best',\n",
       " 'sell',\n",
       " 'need',\n",
       " 'speed',\n",
       " 'underground',\n",
       " 'inch',\n",
       " 'ahead',\n",
       " 'competit',\n",
       " 'take',\n",
       " 'top',\n",
       " 'slot',\n",
       " 'offici',\n",
       " 'game',\n",
       " 'chart',\n",
       " 'race',\n",
       " 'game',\n",
       " 'move',\n",
       " 'one',\n",
       " 'spot',\n",
       " 'first',\n",
       " 'place',\n",
       " 'nudg',\n",
       " 'gta',\n",
       " 'san',\n",
       " 'andrea',\n",
       " 'second',\n",
       " 'place',\n",
       " 'halo',\n",
       " 'drop',\n",
       " 'one',\n",
       " 'place',\n",
       " 'five',\n",
       " 'half',\n",
       " 'life',\n",
       " 'fell',\n",
       " 'number',\n",
       " 'nine',\n",
       " 'last',\n",
       " 'week',\n",
       " 'new',\n",
       " 'releas',\n",
       " 'goldeney',\n",
       " 'rogu',\n",
       " 'agent',\n",
       " 'killzon',\n",
       " 'fail',\n",
       " 'make',\n",
       " 'top',\n",
       " 'debut',\n",
       " 'number',\n",
       " 'respect',\n",
       " 'record',\n",
       " 'number',\n",
       " 'warcraft',\n",
       " 'fan',\n",
       " 'settl',\n",
       " 'game',\n",
       " 'onlin',\n",
       " 'world',\n",
       " 'open',\n",
       " 'day',\n",
       " 'world',\n",
       " 'warcraft',\n",
       " 'massiv',\n",
       " 'multi',\n",
       " 'player',\n",
       " 'onlin',\n",
       " 'game',\n",
       " 'player',\n",
       " 'sign',\n",
       " 'play',\n",
       " 'even',\n",
       " 'first',\n",
       " 'day',\n",
       " 'player',\n",
       " 'world',\n",
       " 'forc',\n",
       " 'blizzard',\n",
       " 'add',\n",
       " 'anoth',\n",
       " 'server',\n",
       " 'cope',\n",
       " 'influx',\n",
       " 'onlin',\n",
       " 'game',\n",
       " 'turn',\n",
       " 'stand',\n",
       " 'alon',\n",
       " 'warcraft',\n",
       " 'game',\n",
       " 'persist',\n",
       " 'world',\n",
       " 'player',\n",
       " 'inhabit',\n",
       " 'visit',\n",
       " 'europ',\n",
       " 'gamer',\n",
       " 'could',\n",
       " 'wait',\n",
       " 'januari',\n",
       " 'hear',\n",
       " 'get',\n",
       " 'mitt',\n",
       " 'nintendo',\n",
       " 'handheld',\n",
       " 'devic',\n",
       " 'nintendo',\n",
       " 'say',\n",
       " 'gamesindustri',\n",
       " 'biz',\n",
       " 'david',\n",
       " 'yarnton',\n",
       " 'nintendo',\n",
       " 'general',\n",
       " 'manag',\n",
       " 'told',\n",
       " 'press',\n",
       " 'confer',\n",
       " 'look',\n",
       " 'detail',\n",
       " 'new',\n",
       " 'year',\n",
       " 'launch',\n",
       " 'sunday',\n",
       " 'goe',\n",
       " 'sale',\n",
       " 'japan',\n",
       " 'decemb',\n",
       " 'nintendo',\n",
       " 'share',\n",
       " 'handheld',\n",
       " 'game',\n",
       " 'market',\n",
       " 'said',\n",
       " 'expect',\n",
       " 'sell',\n",
       " 'around',\n",
       " 'five',\n",
       " 'million',\n",
       " 'march']"
      ]
     },
     "execution_count": 19,
     "metadata": {},
     "output_type": "execute_result"
    }
   ],
   "source": [
    "#The tokenized list looks ok\n",
    "raw_text_df.clean_text[1]"
   ]
  },
  {
   "cell_type": "markdown",
   "metadata": {},
   "source": [
    "# Training"
   ]
  },
  {
   "cell_type": "code",
   "execution_count": 21,
   "metadata": {},
   "outputs": [
    {
     "name": "stdout",
     "output_type": "stream",
     "text": [
      "Dictionary(18656 unique tokens: ['carrot', 'commiss', 'zombi', 'arrigo', 'plug']...)\n"
     ]
    }
   ],
   "source": [
    "dictionary = corpora.Dictionary(raw_text_df.clean_text)\n",
    "print(dictionary)\n"
   ]
  },
  {
   "cell_type": "code",
   "execution_count": 22,
   "metadata": {
    "collapsed": true
   },
   "outputs": [],
   "source": [
    "corpus=[dictionary.doc2bow(doc) for doc in raw_text_df.clean_text]\n"
   ]
  },
  {
   "cell_type": "code",
   "execution_count": null,
   "metadata": {
    "collapsed": true
   },
   "outputs": [],
   "source": [
    "#Estimated memory req't to train: 8 bytes * num_terms * num_topics * 3 ==> 8*18656*4*3 = apprx. 1.7M\n",
    "#Source:  https://github.com/RaRe-Technologies/gensim/wiki/Recipes-&-FAQ#q5-i-am-getting-out-of-memory-errors-with-lsi-how-much-memory-do-i-need\n"
   ]
  },
  {
   "cell_type": "code",
   "execution_count": 23,
   "metadata": {},
   "outputs": [
    {
     "name": "stdout",
     "output_type": "stream",
     "text": [
      "Wall time: 14.2 s\n"
     ]
    }
   ],
   "source": [
    "%%time\n",
    "ldamodel=gensim.models.LdaMulticore(corpus, num_topics=len(CATEGORIES), id2word=dictionary)\n",
    "\n"
   ]
  },
  {
   "cell_type": "code",
   "execution_count": 24,
   "metadata": {},
   "outputs": [
    {
     "name": "stdout",
     "output_type": "stream",
     "text": [
      "[(0, '0.017*\"said\" + 0.005*\"one\" + 0.004*\"also\" + 0.004*\"year\" + 0.004*\"two\" + 0.004*\"make\" + 0.003*\"new\" + 0.003*\"time\" + 0.003*\"peopl\" + 0.003*\"use\" + 0.003*\"best\" + 0.003*\"would\" + 0.003*\"show\" + 0.003*\"includ\" + 0.003*\"get\" + 0.002*\"film\" + 0.002*\"last\" + 0.002*\"say\" + 0.002*\"british\" + 0.002*\"could\" + 0.002*\"play\" + 0.002*\"mani\" + 0.002*\"bbc\" + 0.002*\"take\" + 0.002*\"award\" + 0.002*\"week\" + 0.002*\"like\" + 0.002*\"compani\" + 0.002*\"music\" + 0.002*\"first\" + 0.002*\"told\" + 0.002*\"govern\" + 0.002*\"firm\" + 0.002*\"game\" + 0.002*\"three\" + 0.002*\"plan\" + 0.002*\"report\" + 0.002*\"number\" + 0.002*\"next\" + 0.002*\"call\" + 0.002*\"world\" + 0.002*\"way\" + 0.002*\"want\" + 0.002*\"month\" + 0.002*\"right\" + 0.002*\"group\" + 0.002*\"open\" + 0.002*\"home\" + 0.002*\"phone\" + 0.002*\"market\"'), (1, '0.011*\"said\" + 0.007*\"year\" + 0.005*\"also\" + 0.005*\"one\" + 0.004*\"would\" + 0.004*\"new\" + 0.004*\"last\" + 0.004*\"game\" + 0.003*\"peopl\" + 0.003*\"world\" + 0.003*\"could\" + 0.003*\"time\" + 0.003*\"make\" + 0.003*\"compani\" + 0.003*\"best\" + 0.003*\"two\" + 0.003*\"first\" + 0.003*\"say\" + 0.002*\"govern\" + 0.002*\"month\" + 0.002*\"sale\" + 0.002*\"music\" + 0.002*\"number\" + 0.002*\"market\" + 0.002*\"like\" + 0.002*\"come\" + 0.002*\"take\" + 0.002*\"work\" + 0.002*\"day\" + 0.002*\"use\" + 0.002*\"award\" + 0.002*\"set\" + 0.002*\"way\" + 0.002*\"includ\" + 0.002*\"need\" + 0.002*\"get\" + 0.002*\"countri\" + 0.002*\"want\" + 0.002*\"well\" + 0.002*\"nation\" + 0.002*\"ad\" + 0.002*\"see\" + 0.002*\"record\" + 0.002*\"firm\" + 0.002*\"made\" + 0.002*\"next\" + 0.002*\"look\" + 0.002*\"servic\" + 0.002*\"back\" + 0.002*\"second\"'), (2, '0.011*\"said\" + 0.008*\"would\" + 0.006*\"year\" + 0.005*\"one\" + 0.005*\"game\" + 0.005*\"also\" + 0.005*\"new\" + 0.004*\"peopl\" + 0.004*\"say\" + 0.004*\"time\" + 0.004*\"film\" + 0.004*\"make\" + 0.004*\"show\" + 0.003*\"world\" + 0.003*\"could\" + 0.003*\"use\" + 0.003*\"like\" + 0.003*\"music\" + 0.003*\"govern\" + 0.003*\"mobil\" + 0.003*\"two\" + 0.002*\"last\" + 0.002*\"want\" + 0.002*\"get\" + 0.002*\"first\" + 0.002*\"come\" + 0.002*\"play\" + 0.002*\"player\" + 0.002*\"work\" + 0.002*\"phone\" + 0.002*\"plan\" + 0.002*\"best\" + 0.002*\"win\" + 0.002*\"home\" + 0.002*\"three\" + 0.002*\"week\" + 0.002*\"told\" + 0.002*\"go\" + 0.002*\"look\" + 0.002*\"record\" + 0.002*\"need\" + 0.002*\"servic\" + 0.002*\"day\" + 0.002*\"tri\" + 0.002*\"chang\" + 0.002*\"countri\" + 0.002*\"compani\" + 0.002*\"end\" + 0.002*\"number\" + 0.002*\"report\"'), (3, '0.015*\"said\" + 0.007*\"year\" + 0.006*\"would\" + 0.004*\"say\" + 0.004*\"peopl\" + 0.004*\"new\" + 0.004*\"time\" + 0.004*\"also\" + 0.004*\"play\" + 0.004*\"use\" + 0.003*\"first\" + 0.003*\"game\" + 0.003*\"work\" + 0.003*\"govern\" + 0.003*\"could\" + 0.003*\"film\" + 0.003*\"last\" + 0.003*\"back\" + 0.003*\"take\" + 0.003*\"parti\" + 0.003*\"one\" + 0.003*\"firm\" + 0.002*\"like\" + 0.002*\"compani\" + 0.002*\"elect\" + 0.002*\"win\" + 0.002*\"make\" + 0.002*\"get\" + 0.002*\"two\" + 0.002*\"plan\" + 0.002*\"want\" + 0.002*\"player\" + 0.002*\"way\" + 0.002*\"market\" + 0.002*\"includ\" + 0.002*\"told\" + 0.002*\"music\" + 0.002*\"ad\" + 0.002*\"tax\" + 0.002*\"servic\" + 0.002*\"come\" + 0.002*\"best\" + 0.002*\"month\" + 0.002*\"made\" + 0.002*\"may\" + 0.002*\"mani\" + 0.002*\"world\" + 0.002*\"labour\" + 0.002*\"well\" + 0.002*\"report\"'), (4, '0.018*\"said\" + 0.008*\"year\" + 0.005*\"peopl\" + 0.004*\"also\" + 0.004*\"would\" + 0.004*\"new\" + 0.004*\"use\" + 0.003*\"could\" + 0.003*\"one\" + 0.003*\"get\" + 0.003*\"first\" + 0.003*\"last\" + 0.003*\"time\" + 0.003*\"take\" + 0.003*\"game\" + 0.003*\"like\" + 0.003*\"make\" + 0.003*\"world\" + 0.003*\"labour\" + 0.003*\"say\" + 0.003*\"set\" + 0.003*\"two\" + 0.002*\"report\" + 0.002*\"expect\" + 0.002*\"back\" + 0.002*\"firm\" + 0.002*\"countri\" + 0.002*\"compani\" + 0.002*\"govern\" + 0.002*\"told\" + 0.002*\"elect\" + 0.002*\"made\" + 0.002*\"servic\" + 0.002*\"show\" + 0.002*\"work\" + 0.002*\"win\" + 0.002*\"play\" + 0.002*\"month\" + 0.002*\"week\" + 0.002*\"call\" + 0.002*\"three\" + 0.002*\"number\" + 0.002*\"plan\" + 0.002*\"market\" + 0.002*\"parti\" + 0.002*\"growth\" + 0.002*\"minist\" + 0.002*\"economi\" + 0.002*\"tori\" + 0.002*\"want\"')]\n"
     ]
    }
   ],
   "source": [
    "print(ldamodel.print_topics(num_topics=len(CATEGORIES), num_words=50))"
   ]
  },
  {
   "cell_type": "code",
   "execution_count": 26,
   "metadata": {},
   "outputs": [
    {
     "name": "stdout",
     "output_type": "stream",
     "text": [
      "\n",
      "Topic 1, top 100 words:\n",
      "said one also year two make new time peopl use best would show includ get film last say british could play mani bbc take award week like compani music first told govern firm game three plan report number next call world way want month right group open home phone market look hope back second director win minist help technolog mobil player final current star countri system day user need issu made think set deal ad news expect well start microsoft good top public part follow move servic develop site inform perform network tri million intern place becom unit virus work\n",
      "\n",
      "Topic 2, top 100 words:\n",
      "said year also one would new last game peopl world could time make compani best two first say govern month sale music number market like come take work day use award set way includ need get countri want well nation ad see record firm made next look servic back second cost help end may mani top england play million star win price technolog player part industri good week offer minist increas film three expect phone bbc deal sinc start much move wale figur rise right share think public high told chang home rate busi hit run six open long group\n",
      "\n",
      "Topic 3, top 100 words:\n",
      "said would year one game also new peopl say time film make show world could use like music govern mobil two last want get first come play player work phone plan best win home three week told go look record need servic day tri chang countri compani end number report minist ad take month includ labour second still back call market sale mani firm current nation support made set well england secur right technolog award think group million follow bbc british blair high believ open way top london recent good six hope start public next person part half much help\n",
      "\n",
      "Topic 4, top 100 words:\n",
      "said year would say peopl new time also play use first game work govern could film last back take parti one firm like compani elect win make get two plan want player way market includ told music ad tax servic come best month made may mani world labour well report look good nation next need call bbc show part high number increas right help million run put technolog sinc think home england claim blair open expect final place star law three share still top develop see rule tori decis european set move even offer court second hope issu tri old\n",
      "\n",
      "Topic 5, top 100 words:\n",
      "said year peopl also would new use could one get first last time take game like make world labour say set two report expect back firm countri compani govern told elect made servic show work win play month week call three number plan market parti growth minist economi tori want bank day film much think next share ad bbc rate mani way public job well claim see howev sale start campaign good need busi econom interest blair million even home unit five net top european best group manag cut part record problem technolog state move offer player right come hit\n"
     ]
    }
   ],
   "source": [
    "topics = ldamodel.show_topics(formatted=False, num_words=100)\n",
    "    \n",
    "for t in range(len(topics)):\n",
    "    print(\"\\nTopic {}, top {} words:\".format(t+1,100))\n",
    "    print(\" \".join([w[0] for w in topics[t][1]]))"
   ]
  },
  {
   "cell_type": "markdown",
   "metadata": {
    "collapsed": true
   },
   "source": [
    "# Result:  \n",
    " \n",
    "Need to clean raw text more to include stopwords such as \"the\", \"said\", \"would\", \"could\" ect.  \n",
    "One could infer from topic 1 that it is about technology, as the top words are microsoft, virus,\n",
    "network, and technology.  Topic 5 could be government, as the top words include govern, elect, ministry, tori, ect\n",
    "\n",
    "\n"
   ]
  },
  {
   "cell_type": "code",
   "execution_count": null,
   "metadata": {
    "collapsed": true
   },
   "outputs": [],
   "source": []
  }
 ],
 "metadata": {
  "kernelspec": {
   "display_name": "Python 3",
   "language": "python",
   "name": "python3"
  },
  "language_info": {
   "codemirror_mode": {
    "name": "ipython",
    "version": 3
   },
   "file_extension": ".py",
   "mimetype": "text/x-python",
   "name": "python",
   "nbconvert_exporter": "python",
   "pygments_lexer": "ipython3",
   "version": "3.5.3"
  },
  "widgets": {
   "state": {},
   "version": "1.1.2"
  }
 },
 "nbformat": 4,
 "nbformat_minor": 2
}
